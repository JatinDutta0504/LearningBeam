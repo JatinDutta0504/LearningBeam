{
  "nbformat": 4,
  "nbformat_minor": 0,
  "metadata": {
    "colab": {
      "name": "CompositeTransform.ipynb",
      "provenance": [],
      "collapsed_sections": [],
      "authorship_tag": "ABX9TyOX8NWVgq8/ckTuVXW9teLs",
      "include_colab_link": true
    },
    "kernelspec": {
      "name": "python3",
      "display_name": "Python 3"
    }
  },
  "cells": [
    {
      "cell_type": "markdown",
      "metadata": {
        "id": "view-in-github",
        "colab_type": "text"
      },
      "source": [
        "<a href=\"https://colab.research.google.com/github/JatinDutta0504/LearningBeam/blob/master/CompositeTransform.ipynb\" target=\"_parent\"><img src=\"https://colab.research.google.com/assets/colab-badge.svg\" alt=\"Open In Colab\"/></a>"
      ]
    },
    {
      "cell_type": "code",
      "metadata": {
        "id": "7JdSmnq-6nzK",
        "colab_type": "code",
        "colab": {}
      },
      "source": [
        "!{'pip install --quiet apache_beam'}"
      ],
      "execution_count": 0,
      "outputs": []
    },
    {
      "cell_type": "code",
      "metadata": {
        "id": "44eebQ5f6vpV",
        "colab_type": "code",
        "colab": {}
      },
      "source": [
        "!{'mkdir -p data'}"
      ],
      "execution_count": 0,
      "outputs": []
    },
    {
      "cell_type": "code",
      "metadata": {
        "id": "JW_A1GaS63z1",
        "colab_type": "code",
        "colab": {}
      },
      "source": [
        "from google.colab import files\n",
        "uploaded = files.upload()"
      ],
      "execution_count": 0,
      "outputs": []
    },
    {
      "cell_type": "code",
      "metadata": {
        "id": "B8r7ZrgE7Nup",
        "colab_type": "code",
        "colab": {
          "base_uri": "https://localhost:8080/",
          "height": 286
        },
        "outputId": "54a18fc3-fbc9-41fb-ac9a-ace2fb3b5162"
      },
      "source": [
        "import apache_beam as beam\n",
        "\n",
        "#create composite transform class from PTransform base class\n",
        "class MyCompositeTransform(beam.PTransform):\n",
        "  \n",
        "  def expand(self,input_coll):\n",
        "    a=(\n",
        "        input_coll\n",
        "            |beam.CombinePerKey(sum)\n",
        "            |beam.Filter(filter_on_count)\n",
        "    )\n",
        "    return a\n",
        "\n",
        "#filter all the dept count for > 30 only\n",
        "def filter_on_count(element):\n",
        "\n",
        "  name,count=element\n",
        "  if count>30:\n",
        "    return element\n",
        "\n",
        "p1 = beam.Pipeline()\n",
        "\n",
        "input_collection = (\n",
        "                      p1\n",
        "                        |'Read from file' >> beam.io.ReadFromText('dept_data.txt')\n",
        "                        |'Split Rows' >> beam.Map(lambda record: record.split(','))\n",
        "                    )\n",
        "\n",
        "attendance_Accounts = (\n",
        "                          input_collection\n",
        "                          |beam.Filter(lambda record: record[3]=='Accounts')\n",
        "                          |'Get the dept data' >> beam.Map(lambda record: ('Accounts ' + record[1],1))\n",
        "                          |'Composite transform for Accounts' >> MyCompositeTransform() #call composite transform\n",
        "                          #|beam.io.WriteToText('data/Accounts')\n",
        "                      )\n",
        "\n",
        "attendance_HR = (\n",
        "                    input_collection\n",
        "                    |beam.Filter(lambda record: record[3]=='HR')\n",
        "                    |'Get the HR data' >> beam.Map(lambda record: ('HR ' + record[1],1))\n",
        "                    |'Composite transform for HR' >> MyCompositeTransform() #call composite transform\n",
        "                   # |beam.io.WriteToText('data/HR')\n",
        "                )\n",
        "\n",
        "output = (\n",
        "          (attendance_Accounts,attendance_HR)\n",
        "            |beam.Flatten()\n",
        "            |beam.io.WriteToText('data/output')\n",
        "        )\n",
        "p1.run()\n",
        "\n",
        "\n",
        "!{('head -n 20 data/output-00000-of-00001')}"
      ],
      "execution_count": 6,
      "outputs": [
        {
          "output_type": "stream",
          "text": [
            "('HR Beryl', 62)\n",
            "('HR Olga', 31)\n",
            "('HR Leslie', 31)\n",
            "('HR Mindy', 31)\n",
            "('HR Vicky', 31)\n",
            "('HR Richard', 31)\n",
            "('HR Kirk', 31)\n",
            "('HR Kaori', 31)\n",
            "('HR Oscar', 31)\n",
            "('Accounts Marco', 31)\n",
            "('Accounts Rebekah', 31)\n",
            "('Accounts Itoe', 31)\n",
            "('Accounts Edouard', 31)\n",
            "('Accounts Kyle', 62)\n",
            "('Accounts Kumiko', 31)\n",
            "('Accounts Gaston', 31)\n"
          ],
          "name": "stdout"
        }
      ]
    }
  ]
}